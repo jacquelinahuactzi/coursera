{
 "cells": [
  {
   "cell_type": "markdown",
   "id": "35650a80-44ee-4d49-a82d-3ea3a869835b",
   "metadata": {},
   "source": [
    "Data Science Tools and Ecosystem"
   ]
  },
  {
   "cell_type": "markdown",
   "id": "79da1743-a1b8-46de-acef-a6a18eba07d4",
   "metadata": {},
   "source": [
    "In this notebook, Data Science Tools and Ecosystem are summarized."
   ]
  },
  {
   "cell_type": "markdown",
   "id": "6882befd-f93c-403c-8c9a-d3ceabb219e0",
   "metadata": {},
   "source": [
    "**Objectives:**\n",
    "* unordered list\n",
    "* List popular languages for Data Scienc\n",
    "* tools"
   ]
  },
  {
   "cell_type": "markdown",
   "id": "50e096d4-01ef-4e97-9c81-54721e546b82",
   "metadata": {
    "tags": []
   },
   "source": [
    "Some of the popular languages that Data Scientists use are:\n",
    "- Python\n",
    "- R\n",
    "- SQL"
   ]
  },
  {
   "cell_type": "markdown",
   "id": "8898dbf3-9d4e-4958-a4a1-54f7e37057db",
   "metadata": {
    "tags": []
   },
   "source": [
    "Some of the commonly used libraries used by Data Scientists include:\n",
    "- TensorFlow\n",
    "- SciPy\n",
    "- Pandas\n",
    "- Matplotlib\n",
    "- Scikit-learn\n",
    "- PyTorch\n",
    "- Keras\n",
    "- Plotly"
   ]
  },
  {
   "cell_type": "markdown",
   "id": "388c6701-95c5-4f37-b22e-233a4e3a90d3",
   "metadata": {},
   "source": [
    "ordered list\n",
    "\n",
    "| Data Science Tools | \n",
    "|--------------|\n",
    "| Python   | \n",
    "| Anaconda    |\n",
    "|scikit-learn   | \n"
   ]
  },
  {
   "cell_type": "markdown",
   "id": "bff7e3a3-ddc5-4e7f-89d9-246faa93b8d3",
   "metadata": {},
   "source": [
    "Below are a few examples of evaluating arithmetic expressions in Python\n"
   ]
  },
  {
   "cell_type": "markdown",
   "id": "13017681-2d64-4ad5-97b4-057c674b6206",
   "metadata": {},
   "source": [
    "esta es una expresión aritmética simple para luego agregar números enteros"
   ]
  },
  {
   "cell_type": "code",
   "execution_count": 3,
   "id": "9ca2e4b4-f200-415e-ba0e-8549fdf86332",
   "metadata": {
    "tags": []
   },
   "outputs": [
    {
     "data": {
      "text/plain": [
       "17"
      ]
     },
     "execution_count": 3,
     "metadata": {},
     "output_type": "execute_result"
    }
   ],
   "source": [
    "(3*4)+5"
   ]
  },
  {
   "cell_type": "markdown",
   "id": "a7cdf355-4c90-41cc-b4eb-e883a758b3b5",
   "metadata": {},
   "source": [
    "This will convert 200 minutes to hours by diving by 60"
   ]
  },
  {
   "cell_type": "code",
   "execution_count": 7,
   "id": "c26075e9-4af8-4230-a19d-92e588e466d7",
   "metadata": {
    "tags": []
   },
   "outputs": [
    {
     "name": "stdout",
     "output_type": "stream",
     "text": [
      "3.3333333333333335\n"
     ]
    }
   ],
   "source": [
    "hours = 200 / 60 \n",
    "print(hours)"
   ]
  },
  {
   "cell_type": "markdown",
   "id": "b552008d-8f95-4678-af94-520d88af16b5",
   "metadata": {},
   "source": [
    "# Jacquelin Ahuactzi Ahuatzi"
   ]
  },
  {
   "cell_type": "code",
   "execution_count": null,
   "id": "a38e957b-0d8c-4f1e-8736-8aba4720a715",
   "metadata": {},
   "outputs": [],
   "source": []
  }
 ],
 "metadata": {
  "kernelspec": {
   "display_name": "Python",
   "language": "python",
   "name": "conda-env-python-py"
  },
  "language_info": {
   "codemirror_mode": {
    "name": "ipython",
    "version": 3
   },
   "file_extension": ".py",
   "mimetype": "text/x-python",
   "name": "python",
   "nbconvert_exporter": "python",
   "pygments_lexer": "ipython3",
   "version": "3.7.12"
  }
 },
 "nbformat": 4,
 "nbformat_minor": 5
}
